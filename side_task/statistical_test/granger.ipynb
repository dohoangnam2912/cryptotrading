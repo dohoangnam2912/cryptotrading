{
 "cells": [
  {
   "cell_type": "markdown",
   "metadata": {},
   "source": [
    "Granger causality is a statistical hypothesis test used to determine whether one time series can predict another. It does not imply actual causality in the common sense but measures whether past values of one variable contain information that helps predict future values of another variable, beyond the information already contained in the past values of the variable being predicted.\n",
    "\n",
    "In technical terms:\n",
    "\n",
    "If a time series X \"Granger-causes\" another time series Y, it means that past values of X provide statistically significant information about future values of Y, improving the predictions of Y compared to when only past values of Y are used.\n",
    "The test involves comparing two models: one that uses past values of both X and Y to predict Y, and another that uses only past values of Y to predict itself. If the first model significantly improves predictions, X is said to Granger-cause Y.\n",
    "It is commonly used in econometrics and time series analysis, especially in fields like finance and economics, where determining the direction of relationships between variables can be important.\n",
    "\n",
    "Key points about Granger causality:\n",
    "\n",
    "It requires stationarity (constant mean and variance over time) of the time series involved.\n",
    "It only detects temporal precedence—it cannot confirm true causality.\n",
    "It is often applied to systems where feedback loops may exist, meaning causality could go both ways.\n",
    "Granger causality tests are usually performed using statistical software, which outputs p-values indicating whether one series Granger-causes the other."
   ]
  },
  {
   "cell_type": "markdown",
   "metadata": {},
   "source": [
    "Sure! Let’s go through an example of how Granger causality can be tested in a simple time series context.\n",
    "\n",
    "Example: Testing if Stock Prices Granger-Cause Economic Growth\n",
    "Let’s say you have two time series:\n",
    "\n",
    "Stock Prices (X) – Monthly average stock prices.\n",
    "GDP Growth (Y) – Monthly GDP growth rates.\n",
    "You want to test whether past values of Stock Prices can help predict future values of GDP Growth, i.e., whether Stock Prices Granger-cause GDP Growth.\n",
    "\n",
    "Steps to perform Granger Causality Test:\n",
    "Collect the Data: Obtain time series data for both stock prices and GDP growth over the same time period, say over 10 years, on a monthly basis.\n",
    "\n",
    "Check Stationarity: Before testing, you need to ensure both time series are stationary (i.e., their statistical properties like mean and variance are constant over time). You can apply transformations or difference the data if it’s non-stationary.\n",
    "\n",
    "Lag Selection: Choose how many past values (lags) of each variable to include in the model. For instance, you might decide to include the past 2 months' values for stock prices and GDP growth (lag of 2).\n",
    "\n",
    "Set up two models:\n",
    "\n",
    "Restricted Model (without stock prices): Only use past GDP growth values to predict future GDP growth.\n",
    "Unrestricted Model (with stock prices): Use both past values of stock prices and past values of GDP growth to predict future GDP growth.\n",
    "Run the Granger Causality Test:\n",
    "\n",
    "If the unrestricted model (with stock prices) significantly improves the prediction of GDP growth (based on the F-test or p-values), then stock prices Granger-cause GDP growth.\n",
    "If not, you fail to reject the null hypothesis, meaning stock prices don’t Granger-cause GDP growth.\n",
    "Hypotheses:\n",
    "Null Hypothesis: Stock prices do not Granger-cause GDP growth.\n",
    "Alternative Hypothesis: Stock prices Granger-cause GDP growth.\n",
    "Interpretation:\n",
    "If the p-value is less than your significance level (say, 0.05), you reject the null hypothesis and conclude that stock prices Granger-cause GDP growth.\n",
    "If the p-value is greater than 0.05, you fail to reject the null hypothesis, implying there is no evidence that stock prices help predict GDP growth.\n",
    "\n",
    "Example Output (Hypothetical):\n",
    "\n",
    "Test Statistic\tp-value\tConclusion\n",
    "\n",
    "4.56\t0.03\tReject Null Hypothesis\n",
    "\n",
    "In this case, the p-value is 0.03, which is less than 0.05. Thus, you would reject the null hypothesis and conclude that stock prices Granger-cause GDP growth.\n",
    "\n",
    "This is just an illustrative example. In practice, you would use statistical software (like Python’s statsmodels library) to perform the Granger causality test with actual data."
   ]
  },
  {
   "cell_type": "code",
   "execution_count": 1,
   "metadata": {},
   "outputs": [
    {
     "name": "stdout",
     "output_type": "stream",
     "text": [
      "\n",
      "Granger Causality\n",
      "number of lags (no zero) 1\n",
      "ssr based F test:         F=142.7494, p=0.0000  , df_denom=96, df_num=1\n",
      "ssr based chi2 test:   chi2=147.2103, p=0.0000  , df=1\n",
      "likelihood ratio test: chi2=90.1956 , p=0.0000  , df=1\n",
      "parameter F test:         F=142.7494, p=0.0000  , df_denom=96, df_num=1\n",
      "\n",
      "Granger Causality\n",
      "number of lags (no zero) 2\n",
      "ssr based F test:         F=49.1575 , p=0.0000  , df_denom=93, df_num=2\n",
      "ssr based chi2 test:   chi2=103.6008, p=0.0000  , df=2\n",
      "likelihood ratio test: chi2=70.6895 , p=0.0000  , df=2\n",
      "parameter F test:         F=49.1575 , p=0.0000  , df_denom=93, df_num=2\n",
      "{1: ({'ssr_ftest': (142.7493999364213, 1.0622210540064497e-20, 96.0, 1), 'ssr_chi2test': (147.21031868443447, 7.059187685413867e-34, 1), 'lrtest': (90.19556117891958, 2.1574556585141538e-21, 1), 'params_ftest': (142.74939993642113, 1.0622210540064853e-20, 96.0, 1.0)}, [<statsmodels.regression.linear_model.RegressionResultsWrapper object at 0x7714061ff350>, <statsmodels.regression.linear_model.RegressionResultsWrapper object at 0x771433fe6cf0>, array([[0., 1., 0.]])]), 2: ({'ssr_ftest': (49.15750388406195, 2.7109827866678255e-15, 93.0, 2), 'ssr_chi2test': (103.60076087393703, 3.1869893760236106e-23, 2), 'lrtest': (70.68953950618788, 4.466440286201997e-16, 2), 'params_ftest': (49.15750388406187, 2.7109827866679407e-15, 93.0, 2.0)}, [<statsmodels.regression.linear_model.RegressionResultsWrapper object at 0x77140579a870>, <statsmodels.regression.linear_model.RegressionResultsWrapper object at 0x77140579a780>, array([[0., 0., 1., 0., 0.],\n",
      "       [0., 0., 0., 1., 0.]])])}\n"
     ]
    },
    {
     "name": "stderr",
     "output_type": "stream",
     "text": [
      "/home/yosakoi/miniconda3/envs/tradingbot/lib/python3.12/site-packages/statsmodels/tsa/stattools.py:1556: FutureWarning: verbose is deprecated since functions should not print results\n",
      "  warnings.warn(\n"
     ]
    }
   ],
   "source": [
    "import numpy as np\n",
    "import pandas as pd\n",
    "from statsmodels.tsa.stattools import grangercausalitytests\n",
    "\n",
    "# Example Data\n",
    "# Let's generate some sample data for Stock Prices (X) and GDP Growth (Y)\n",
    "np.random.seed(0)\n",
    "data_length = 100\n",
    "time = np.arange(data_length)\n",
    "\n",
    "# Simulate Stock Prices (X)\n",
    "X = np.sin(0.1 * time) + np.random.normal(0, 0.1, data_length)\n",
    "\n",
    "# Simulate GDP Growth (Y) with some dependence on past values of X\n",
    "Y = 0.5 * np.roll(X, 1) + np.random.normal(0, 0.1, data_length)\n",
    "\n",
    "# Create a DataFrame\n",
    "data = pd.DataFrame({'Stock_Prices': X, 'GDP_Growth': Y})\n",
    "\n",
    "# Granger Causality Test\n",
    "# We test if past values of Stock Prices (X) Granger-cause GDP Growth (Y)\n",
    "max_lag = 2  # We will test for 2 lags (you can adjust this)\n",
    "test_result = grangercausalitytests(data[['GDP_Growth', 'Stock_Prices']], max_lag, verbose=True)\n",
    "\n",
    "# Output the result\n",
    "print(test_result)"
   ]
  },
  {
   "cell_type": "markdown",
   "metadata": {},
   "source": [
    "his output indicates the results of a Granger causality test with two lags, showing whether Stock Prices Granger-cause GDP Growth based on different test statistics.\n",
    "\n",
    "Let's break it down:\n",
    "\n",
    "Key Statistics in the Output:\n",
    "SSR Based F-Test:\n",
    "\n",
    "F-statistic and p-value: These values come from an F-test that compares the restricted and unrestricted models. If the p-value is very small (e.g., close to 0), it suggests that the inclusion of past values of stock prices significantly improves the model predicting GDP growth.\n",
    "For lag 1: F = 142.7494, p-value = 0.0000 (indicating strong significance).\n",
    "For lag 2: F = 49.1575, p-value = 0.0000 (also strongly significant).\n",
    "SSR Based Chi-Square Test:\n",
    "\n",
    "This test is similar to the F-test but is based on the chi-square distribution. It checks the same hypothesis as the F-test but uses a different approach. A very small p-value also suggests significance.\n",
    "For lag 1: chi-square = 147.2103, p-value = 0.0000.\n",
    "For lag 2: chi-square = 103.6008, p-value = 0.0000.\n",
    "Likelihood Ratio Test (LR Test):\n",
    "\n",
    "This test compares the likelihoods of the restricted and unrestricted models. Again, a small p-value indicates significance.\n",
    "For lag 1: chi-square = 90.1956, p-value = 0.0000.\n",
    "For lag 2: chi-square = 70.6895, p-value = 0.0000.\n",
    "Parameter F-Test:\n",
    "\n",
    "This is another test on the coefficients of the model. If the p-value is small, it means that the parameters (in this case, the lags of stock prices) are significant predictors of GDP growth.\n",
    "For lag 1: F = 142.7494, p-value = 0.0000.\n",
    "For lag 2: F = 49.1575, p-value = 0.0000.\n",
    "Interpretation of the Results:\n",
    "For both lags 1 and 2, all tests (F-test, chi-square test, likelihood ratio test) have p-values of 0.0000 (or very close to zero), meaning that past values of stock prices significantly improve the prediction of GDP growth.\n",
    "You can reject the null hypothesis (which states that stock prices do not Granger-cause GDP growth) for both lag 1 and lag 2 models.\n",
    "What It Means:\n",
    "Stock Prices Granger-cause GDP Growth: The test strongly indicates that stock prices can be used to predict GDP growth. The low p-values across the different tests show that past stock prices contain valuable information that can predict future GDP growth.\n",
    "\n",
    "Lag Considerations: The test results for both 1 lag and 2 lags show significance, so you might want to consider both lag structures in your final model. You could choose the number of lags based on additional model fit criteria (like AIC or BIC), but both lag models suggest a strong relationship.\n",
    "\n",
    "In short, based on this output, Stock Prices do Granger-cause GDP Growth, and you can confidently reject the null hypothesis across different lag structures."
   ]
  },
  {
   "cell_type": "markdown",
   "metadata": {},
   "source": []
  }
 ],
 "metadata": {
  "kernelspec": {
   "display_name": "tradingbot",
   "language": "python",
   "name": "python3"
  },
  "language_info": {
   "codemirror_mode": {
    "name": "ipython",
    "version": 3
   },
   "file_extension": ".py",
   "mimetype": "text/x-python",
   "name": "python",
   "nbconvert_exporter": "python",
   "pygments_lexer": "ipython3",
   "version": "3.12.5"
  }
 },
 "nbformat": 4,
 "nbformat_minor": 2
}
