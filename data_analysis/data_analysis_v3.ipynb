{
 "cells": [
  {
   "cell_type": "markdown",
   "metadata": {},
   "source": [
    "Rules we are going to analyze:\n",
    "1. Moving averages\n",
    "2. Support and resistance levels\n",
    "3. Moving average convergence divergence\n",
    "4. Rate of change\n",
    "5. On-balance volume\n",
    "6. Relative strength index\n",
    "7. Bollinger band method"
   ]
  },
  {
   "cell_type": "markdown",
   "metadata": {},
   "source": []
  }
 ],
 "metadata": {
  "language_info": {
   "name": "python"
  }
 },
 "nbformat": 4,
 "nbformat_minor": 2
}
